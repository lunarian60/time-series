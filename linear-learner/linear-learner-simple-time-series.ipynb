{
 "cells": [
  {
   "cell_type": "markdown",
   "id": "f9c6f951",
   "metadata": {},
   "source": [
    "# Time Series Forecasting with Linear Learner\n",
    "_** 본문은 aws sagemaker 영문 samples 에서 레퍼런스하였습니다. (ref: https://github.com/aws/amazon-sagemaker-examples/tree/master/introduction_to_applying_machine_learning/linear_time_series_forecast) **_"
   ]
  },
  {
   "cell_type": "markdown",
   "id": "e1d68e9a",
   "metadata": {},
   "source": [
    "## Contents\n",
    "\n",
    "1. [Background](#Background)\n",
    "1. [Setup](#Setup)\n",
    "1. [Data](#Data)\n",
    "1. [Train](#Train)\n",
    "1. [Host](#Host)\n",
    "  1. [Forecast](#Forecast)\n"
   ]
  },
  {
   "cell_type": "markdown",
   "id": "a3bf8eb4",
   "metadata": {},
   "source": [
    "## Background\n",
    "\n",
    "시계열 예측은 잠재적으로 가장 관련성이 높은 기계 학습 주제입니다. 소매업의 미래 판매, 부동산 주택 가격, 도시 교통, 의료 분야의 환자 방문 등 거의 모든 산업에서 시계열 예측 개선의 이점을 얻을 수 있습니다.시계열 데이터를 예측하기 위해 개발된 수많은 통계 방법론이 있지만 여전히 예측 개발 프로세스는 객관적인 통계와 주관적인 해석이 혼합된 경향이 있습니다.\n",
    "\n",
    "시계열 데이터를 적절하게 모델링하려면 많은 주의가 필요합니다. 모델링에 적합한 집계 수준은 무엇일까요? 너무 세분화되고 노이즈 때문에 신호가 손실되고, 중요한 변화가 누락됩니다. 또한 올바른 주기성은 무엇일까요?매일, 매주, 매월? 휴일 데이터는 존재하나요? 최근 동향과 전반적인 추세를 어떻게 가중시켜야 할까요?\n",
    "\n",
    "추세, 계절성 및 최근 동작에 대한 적절한 컨트롤을 사용한 선형 회귀 분석은 합리적인 변동성으로 안정적인 시계열을 예측하는 일반적인 방법입니다. 이 노트북은 1991년부터 2005년까지 미국 가솔린 제품의 주간 생산량을 예측하는 선형 모델을 구축합니다. 거의 독점적으로 응용 프로그램에 초점을 맞출 것입니다. 예측에 대한 자세한 내용은 예측: 원칙 및 실습을 참조하십시오. 또한 데이터 집합은 단일 시계열이므로 SageMaker의 선형 학습자 알고리즘을 고수할 것입니다. 관련 시계열이 여러 개 있는 경우 예측을 위해 특별히 설계된 SageMaker의 DeepAR 알고리즘을 사용합니다. 자세한 내용은 DeepAR 노트북을 참조하십시오."
   ]
  },
  {
   "cell_type": "markdown",
   "id": "9348a143",
   "metadata": {},
   "source": [
    "## Setup\n",
    "\n",
    "본 노트북은 다음 인스턴스 타입에서 실행되었습니다.\n",
    "* ml.m5.2xlarge\n",
    "\n",
    "다음을 지정하여 시작해 보겠습니다.\n",
    "\n",
    "* 학습 및 모델 데이터에 사용할 S3 버킷과 prefix 입니다. 이 노트북 인스턴스, 교육 및 호스팅과 동일한 region 내에 있어야 합니다.\n",
    "* 데이터에 대한 교육 및 호스팅 액세스를 제공하는 데 사용되는 IAM 역할 arn입니다. 이러한 항목을 만드는 방법은 설명서를 참조하십시오. 노트북 인스턴스, 교육 및/또는 호스팅에 둘 이상의 역할이 필요한 경우 boto 정규 표현식을 적절한 전체 IAM 역할 arn 문자열로 교체하십시오."
   ]
  },
  {
   "cell_type": "code",
   "execution_count": 2,
   "id": "4bf6a88e",
   "metadata": {},
   "outputs": [],
   "source": [
    "import sagemaker\n",
    "\n",
    "# Default S3 bucket created for training and storing model artifacts\n",
    "# The bucket and prefix parameters can be modified to use an existing bucket\n",
    "# 버켓 이름은 사용자 지정으로 바꿀수 있습니다.\n",
    "# bucket = sagemaker.Session().default_bucket()\n",
    "bucket = \"yudong-data\"\n",
    "prefix = \"sagemaker/linear-time-series-forecast\"\n",
    "\n",
    "# Define IAM role\n",
    "import boto3\n",
    "import re\n",
    "from sagemaker import get_execution_role\n",
    "\n",
    "role = get_execution_role()"
   ]
  },
  {
   "cell_type": "code",
   "execution_count": 3,
   "id": "9d26a5ba",
   "metadata": {},
   "outputs": [
    {
     "data": {
      "text/plain": [
       "'arn:aws:iam::806174985048:role/service-role/AmazonSageMaker-ExecutionRole-20201218T151409'"
      ]
     },
     "execution_count": 3,
     "metadata": {},
     "output_type": "execute_result"
    }
   ],
   "source": [
    "role"
   ]
  },
  {
   "cell_type": "markdown",
   "id": "4daf7b23",
   "metadata": {},
   "source": [
    "이제 필요한 Python 라이브러리를 가져옵니다."
   ]
  },
  {
   "cell_type": "code",
   "execution_count": 4,
   "id": "0f944779",
   "metadata": {},
   "outputs": [],
   "source": [
    "import pandas as pd\n",
    "import numpy as np\n",
    "import matplotlib.pyplot as plt\n",
    "import io\n",
    "import os\n",
    "import time\n",
    "import json\n",
    "import sagemaker.amazon.common as smac\n",
    "from sagemaker.serializers import CSVSerializer\n",
    "from sagemaker.deserializers import JSONDeserializer"
   ]
  },
  {
   "cell_type": "markdown",
   "id": "d887b6e5",
   "metadata": {},
   "source": [
    "## Data \n",
    "\n",
    "데이터를 다운받습니다. 데이터에 대한 자세항 정보는 다음 링크를 참조하십시오. [여기](https://rdrr.io/github/robjhyndman/fpp/man/gasoline.html)."
   ]
  },
  {
   "cell_type": "code",
   "execution_count": 5,
   "id": "9c471380",
   "metadata": {},
   "outputs": [
    {
     "name": "stdout",
     "output_type": "stream",
     "text": [
      "--2021-05-23 11:47:00--  http://robjhyndman.com/data/gasoline.csv\n",
      "Resolving robjhyndman.com (robjhyndman.com)... 35.208.79.31\n",
      "Connecting to robjhyndman.com (robjhyndman.com)|35.208.79.31|:80... ^C\n"
     ]
    }
   ],
   "source": [
    "!wget http://robjhyndman.com/data/gasoline.csv"
   ]
  },
  {
   "cell_type": "code",
   "execution_count": 6,
   "id": "31bb219f",
   "metadata": {},
   "outputs": [],
   "source": [
    "raw_df = pd.read_csv('gasoline.csv')"
   ]
  },
  {
   "cell_type": "code",
   "execution_count": 7,
   "id": "f0927941",
   "metadata": {},
   "outputs": [
    {
     "data": {
      "text/html": [
       "<div>\n",
       "<style scoped>\n",
       "    .dataframe tbody tr th:only-of-type {\n",
       "        vertical-align: middle;\n",
       "    }\n",
       "\n",
       "    .dataframe tbody tr th {\n",
       "        vertical-align: top;\n",
       "    }\n",
       "\n",
       "    .dataframe thead th {\n",
       "        text-align: right;\n",
       "    }\n",
       "</style>\n",
       "<table border=\"1\" class=\"dataframe\">\n",
       "  <thead>\n",
       "    <tr style=\"text-align: right;\">\n",
       "      <th></th>\n",
       "      <th>6621</th>\n",
       "    </tr>\n",
       "  </thead>\n",
       "  <tbody>\n",
       "    <tr>\n",
       "      <th>0</th>\n",
       "      <td>6433.0</td>\n",
       "    </tr>\n",
       "    <tr>\n",
       "      <th>1</th>\n",
       "      <td>6582.0</td>\n",
       "    </tr>\n",
       "    <tr>\n",
       "      <th>2</th>\n",
       "      <td>7224.0</td>\n",
       "    </tr>\n",
       "    <tr>\n",
       "      <th>3</th>\n",
       "      <td>6875.0</td>\n",
       "    </tr>\n",
       "    <tr>\n",
       "      <th>4</th>\n",
       "      <td>6947.0</td>\n",
       "    </tr>\n",
       "  </tbody>\n",
       "</table>\n",
       "</div>"
      ],
      "text/plain": [
       "     6621\n",
       "0  6433.0\n",
       "1  6582.0\n",
       "2  7224.0\n",
       "3  6875.0\n",
       "4  6947.0"
      ]
     },
     "execution_count": 7,
     "metadata": {},
     "output_type": "execute_result"
    }
   ],
   "source": [
    "raw_df.head()"
   ]
  },
  {
   "cell_type": "code",
   "execution_count": 8,
   "id": "6d845676",
   "metadata": {},
   "outputs": [
    {
     "data": {
      "text/plain": [
       "<AxesSubplot:>"
      ]
     },
     "execution_count": 8,
     "metadata": {},
     "output_type": "execute_result"
    },
    {
     "data": {
      "image/png": "[encoded data removed]",
      "text/plain": [
       "<Figure size 432x288 with 1 Axes>"
      ]
     },
     "metadata": {
      "needs_background": "light"
     },
     "output_type": "display_data"
    }
   ],
   "source": [
    "raw_df.plot()"
   ]
  },
  {
   "cell_type": "markdown",
   "id": "1d43f26b",
   "metadata": {},
   "source": [
    "보시다시피, 확실한 상승 추세가 있고, 계절성이 존재하고, 충분한 변동성이 있습니다.\n",
    "몇 가지 예기치 않은 딥과 계절성이 다소 뚜렷한 몇 년이 있습니다. 이러한 특성은 많은 시계열에서 일반적입니다."
   ]
  },
  {
   "cell_type": "code",
   "execution_count": 9,
   "id": "bca4de35",
   "metadata": {},
   "outputs": [],
   "source": [
    "gas = pd.read_csv(\"gasoline.csv\", header=None, names=[\"thousands_barrels\"])"
   ]
  },
  {
   "cell_type": "code",
   "execution_count": 10,
   "id": "045943fb",
   "metadata": {},
   "outputs": [
    {
     "data": {
      "text/html": [
       "<div>\n",
       "<style scoped>\n",
       "    .dataframe tbody tr th:only-of-type {\n",
       "        vertical-align: middle;\n",
       "    }\n",
       "\n",
       "    .dataframe tbody tr th {\n",
       "        vertical-align: top;\n",
       "    }\n",
       "\n",
       "    .dataframe thead th {\n",
       "        text-align: right;\n",
       "    }\n",
       "</style>\n",
       "<table border=\"1\" class=\"dataframe\">\n",
       "  <thead>\n",
       "    <tr style=\"text-align: right;\">\n",
       "      <th></th>\n",
       "      <th>thousands_barrels</th>\n",
       "    </tr>\n",
       "  </thead>\n",
       "  <tbody>\n",
       "    <tr>\n",
       "      <th>0</th>\n",
       "      <td>6621.0</td>\n",
       "    </tr>\n",
       "    <tr>\n",
       "      <th>1</th>\n",
       "      <td>6433.0</td>\n",
       "    </tr>\n",
       "    <tr>\n",
       "      <th>2</th>\n",
       "      <td>6582.0</td>\n",
       "    </tr>\n",
       "    <tr>\n",
       "      <th>3</th>\n",
       "      <td>7224.0</td>\n",
       "    </tr>\n",
       "    <tr>\n",
       "      <th>4</th>\n",
       "      <td>6875.0</td>\n",
       "    </tr>\n",
       "  </tbody>\n",
       "</table>\n",
       "</div>"
      ],
      "text/plain": [
       "   thousands_barrels\n",
       "0             6621.0\n",
       "1             6433.0\n",
       "2             6582.0\n",
       "3             7224.0\n",
       "4             6875.0"
      ]
     },
     "execution_count": 10,
     "metadata": {},
     "output_type": "execute_result"
    }
   ],
   "source": [
    "gas.head()"
   ]
  },
  {
   "cell_type": "markdown",
   "id": "82700cec",
   "metadata": {},
   "source": [
    "다음으로 데이터 집합을 변환하여 표준 예측 모델과 좀 더 비슷하게 보이게 할 것입니다. 우리의 대상 변수는 천개 단위의 배럴입니다. 다음과 같은 feature 들을 만들어 보겠습니다.\n",
    "\n",
    "* 4주 이전의 배럴 양\n",
    "* trend. 위의 차트는 추세가 단순히 선형임을 나타내지만 로그와 quadric trend 를 만들어 줍니다.\n",
    "* 계절 및 주요 휴일 주를 파악하는 데 도움이 되는 지표 변수 {0 또는 1} 입니다."
   ]
  },
  {
   "cell_type": "code",
   "execution_count": 11,
   "id": "fe1d8e2b",
   "metadata": {},
   "outputs": [],
   "source": [
    "gas[\"thousands_barrels_lag1\"] = gas[\"thousands_barrels\"].shift(1)\n",
    "gas[\"thousands_barrels_lag2\"] = gas[\"thousands_barrels\"].shift(2)\n",
    "gas[\"thousands_barrels_lag3\"] = gas[\"thousands_barrels\"].shift(3)\n",
    "gas[\"thousands_barrels_lag4\"] = gas[\"thousands_barrels\"].shift(4)\n",
    "gas[\"trend\"] = np.arange(len(gas))\n",
    "gas[\"log_trend\"] = np.log1p(np.arange(len(gas)))\n",
    "gas[\"sq_trend\"] = np.arange(len(gas)) ** 2\n",
    "weeks = pd.get_dummies(np.array(list(range(52)) * 15)[: len(gas)], prefix=\"week\")\n",
    "gas = pd.concat([gas, weeks], axis=1)"
   ]
  },
  {
   "cell_type": "code",
   "execution_count": 33,
   "id": "bf25e9bb",
   "metadata": {},
   "outputs": [
    {
     "data": {
      "text/html": [
       "<div>\n",
       "<style scoped>\n",
       "    .dataframe tbody tr th:only-of-type {\n",
       "        vertical-align: middle;\n",
       "    }\n",
       "\n",
       "    .dataframe tbody tr th {\n",
       "        vertical-align: top;\n",
       "    }\n",
       "\n",
       "    .dataframe thead th {\n",
       "        text-align: right;\n",
       "    }\n",
       "</style>\n",
       "<table border=\"1\" class=\"dataframe\">\n",
       "  <thead>\n",
       "    <tr style=\"text-align: right;\">\n",
       "      <th></th>\n",
       "      <th>thousands_barrels</th>\n",
       "      <th>thousands_barrels_lag1</th>\n",
       "      <th>thousands_barrels_lag2</th>\n",
       "      <th>thousands_barrels_lag3</th>\n",
       "      <th>thousands_barrels_lag4</th>\n",
       "      <th>trend</th>\n",
       "      <th>log_trend</th>\n",
       "      <th>sq_trend</th>\n",
       "      <th>week_0</th>\n",
       "      <th>week_1</th>\n",
       "      <th>...</th>\n",
       "      <th>week_45</th>\n",
       "      <th>week_46</th>\n",
       "      <th>week_47</th>\n",
       "      <th>week_48</th>\n",
       "      <th>week_49</th>\n",
       "      <th>week_50</th>\n",
       "      <th>week_51</th>\n",
       "      <th>thousands_barrels_lag52</th>\n",
       "      <th>thousands_barrels_lag104</th>\n",
       "      <th>thousands_barrels_naive_forecast</th>\n",
       "    </tr>\n",
       "  </thead>\n",
       "  <tbody>\n",
       "    <tr>\n",
       "      <th>4</th>\n",
       "      <td>6875.0</td>\n",
       "      <td>7224.0</td>\n",
       "      <td>6582.0</td>\n",
       "      <td>6433.0</td>\n",
       "      <td>6621.0</td>\n",
       "      <td>4</td>\n",
       "      <td>1.609438</td>\n",
       "      <td>16</td>\n",
       "      <td>0</td>\n",
       "      <td>0</td>\n",
       "      <td>...</td>\n",
       "      <td>0</td>\n",
       "      <td>0</td>\n",
       "      <td>0</td>\n",
       "      <td>0</td>\n",
       "      <td>0</td>\n",
       "      <td>0</td>\n",
       "      <td>0</td>\n",
       "      <td>NaN</td>\n",
       "      <td>NaN</td>\n",
       "      <td>NaN</td>\n",
       "    </tr>\n",
       "    <tr>\n",
       "      <th>5</th>\n",
       "      <td>6947.0</td>\n",
       "      <td>6875.0</td>\n",
       "      <td>7224.0</td>\n",
       "      <td>6582.0</td>\n",
       "      <td>6433.0</td>\n",
       "      <td>5</td>\n",
       "      <td>1.791759</td>\n",
       "      <td>25</td>\n",
       "      <td>0</td>\n",
       "      <td>0</td>\n",
       "      <td>...</td>\n",
       "      <td>0</td>\n",
       "      <td>0</td>\n",
       "      <td>0</td>\n",
       "      <td>0</td>\n",
       "      <td>0</td>\n",
       "      <td>0</td>\n",
       "      <td>0</td>\n",
       "      <td>NaN</td>\n",
       "      <td>NaN</td>\n",
       "      <td>NaN</td>\n",
       "    </tr>\n",
       "    <tr>\n",
       "      <th>6</th>\n",
       "      <td>7328.0</td>\n",
       "      <td>6947.0</td>\n",
       "      <td>6875.0</td>\n",
       "      <td>7224.0</td>\n",
       "      <td>6582.0</td>\n",
       "      <td>6</td>\n",
       "      <td>1.945910</td>\n",
       "      <td>36</td>\n",
       "      <td>0</td>\n",
       "      <td>0</td>\n",
       "      <td>...</td>\n",
       "      <td>0</td>\n",
       "      <td>0</td>\n",
       "      <td>0</td>\n",
       "      <td>0</td>\n",
       "      <td>0</td>\n",
       "      <td>0</td>\n",
       "      <td>0</td>\n",
       "      <td>NaN</td>\n",
       "      <td>NaN</td>\n",
       "      <td>NaN</td>\n",
       "    </tr>\n",
       "    <tr>\n",
       "      <th>7</th>\n",
       "      <td>6777.0</td>\n",
       "      <td>7328.0</td>\n",
       "      <td>6947.0</td>\n",
       "      <td>6875.0</td>\n",
       "      <td>7224.0</td>\n",
       "      <td>7</td>\n",
       "      <td>2.079442</td>\n",
       "      <td>49</td>\n",
       "      <td>0</td>\n",
       "      <td>0</td>\n",
       "      <td>...</td>\n",
       "      <td>0</td>\n",
       "      <td>0</td>\n",
       "      <td>0</td>\n",
       "      <td>0</td>\n",
       "      <td>0</td>\n",
       "      <td>0</td>\n",
       "      <td>0</td>\n",
       "      <td>NaN</td>\n",
       "      <td>NaN</td>\n",
       "      <td>NaN</td>\n",
       "    </tr>\n",
       "    <tr>\n",
       "      <th>8</th>\n",
       "      <td>7503.0</td>\n",
       "      <td>6777.0</td>\n",
       "      <td>7328.0</td>\n",
       "      <td>6947.0</td>\n",
       "      <td>6875.0</td>\n",
       "      <td>8</td>\n",
       "      <td>2.197225</td>\n",
       "      <td>64</td>\n",
       "      <td>0</td>\n",
       "      <td>0</td>\n",
       "      <td>...</td>\n",
       "      <td>0</td>\n",
       "      <td>0</td>\n",
       "      <td>0</td>\n",
       "      <td>0</td>\n",
       "      <td>0</td>\n",
       "      <td>0</td>\n",
       "      <td>0</td>\n",
       "      <td>NaN</td>\n",
       "      <td>NaN</td>\n",
       "      <td>NaN</td>\n",
       "    </tr>\n",
       "    <tr>\n",
       "      <th>9</th>\n",
       "      <td>6916.0</td>\n",
       "      <td>7503.0</td>\n",
       "      <td>6777.0</td>\n",
       "      <td>7328.0</td>\n",
       "      <td>6947.0</td>\n",
       "      <td>9</td>\n",
       "      <td>2.302585</td>\n",
       "      <td>81</td>\n",
       "      <td>0</td>\n",
       "      <td>0</td>\n",
       "      <td>...</td>\n",
       "      <td>0</td>\n",
       "      <td>0</td>\n",
       "      <td>0</td>\n",
       "      <td>0</td>\n",
       "      <td>0</td>\n",
       "      <td>0</td>\n",
       "      <td>0</td>\n",
       "      <td>NaN</td>\n",
       "      <td>NaN</td>\n",
       "      <td>NaN</td>\n",
       "    </tr>\n",
       "    <tr>\n",
       "      <th>10</th>\n",
       "      <td>7045.0</td>\n",
       "      <td>6916.0</td>\n",
       "      <td>7503.0</td>\n",
       "      <td>6777.0</td>\n",
       "      <td>7328.0</td>\n",
       "      <td>10</td>\n",
       "      <td>2.397895</td>\n",
       "      <td>100</td>\n",
       "      <td>0</td>\n",
       "      <td>0</td>\n",
       "      <td>...</td>\n",
       "      <td>0</td>\n",
       "      <td>0</td>\n",
       "      <td>0</td>\n",
       "      <td>0</td>\n",
       "      <td>0</td>\n",
       "      <td>0</td>\n",
       "      <td>0</td>\n",
       "      <td>NaN</td>\n",
       "      <td>NaN</td>\n",
       "      <td>NaN</td>\n",
       "    </tr>\n",
       "    <tr>\n",
       "      <th>11</th>\n",
       "      <td>6956.0</td>\n",
       "      <td>7045.0</td>\n",
       "      <td>6916.0</td>\n",
       "      <td>7503.0</td>\n",
       "      <td>6777.0</td>\n",
       "      <td>11</td>\n",
       "      <td>2.484907</td>\n",
       "      <td>121</td>\n",
       "      <td>0</td>\n",
       "      <td>0</td>\n",
       "      <td>...</td>\n",
       "      <td>0</td>\n",
       "      <td>0</td>\n",
       "      <td>0</td>\n",
       "      <td>0</td>\n",
       "      <td>0</td>\n",
       "      <td>0</td>\n",
       "      <td>0</td>\n",
       "      <td>NaN</td>\n",
       "      <td>NaN</td>\n",
       "      <td>NaN</td>\n",
       "    </tr>\n",
       "    <tr>\n",
       "      <th>12</th>\n",
       "      <td>6976.0</td>\n",
       "      <td>6956.0</td>\n",
       "      <td>7045.0</td>\n",
       "      <td>6916.0</td>\n",
       "      <td>7503.0</td>\n",
       "      <td>12</td>\n",
       "      <td>2.564949</td>\n",
       "      <td>144</td>\n",
       "      <td>0</td>\n",
       "      <td>0</td>\n",
       "      <td>...</td>\n",
       "      <td>0</td>\n",
       "      <td>0</td>\n",
       "      <td>0</td>\n",
       "      <td>0</td>\n",
       "      <td>0</td>\n",
       "      <td>0</td>\n",
       "      <td>0</td>\n",
       "      <td>NaN</td>\n",
       "      <td>NaN</td>\n",
       "      <td>NaN</td>\n",
       "    </tr>\n",
       "    <tr>\n",
       "      <th>13</th>\n",
       "      <td>7185.0</td>\n",
       "      <td>6976.0</td>\n",
       "      <td>6956.0</td>\n",
       "      <td>7045.0</td>\n",
       "      <td>6916.0</td>\n",
       "      <td>13</td>\n",
       "      <td>2.639057</td>\n",
       "      <td>169</td>\n",
       "      <td>0</td>\n",
       "      <td>0</td>\n",
       "      <td>...</td>\n",
       "      <td>0</td>\n",
       "      <td>0</td>\n",
       "      <td>0</td>\n",
       "      <td>0</td>\n",
       "      <td>0</td>\n",
       "      <td>0</td>\n",
       "      <td>0</td>\n",
       "      <td>NaN</td>\n",
       "      <td>NaN</td>\n",
       "      <td>NaN</td>\n",
       "    </tr>\n",
       "  </tbody>\n",
       "</table>\n",
       "<p>10 rows × 63 columns</p>\n",
       "</div>"
      ],
      "text/plain": [
       "    thousands_barrels  thousands_barrels_lag1  thousands_barrels_lag2  \\\n",
       "4              6875.0                  7224.0                  6582.0   \n",
       "5              6947.0                  6875.0                  7224.0   \n",
       "6              7328.0                  6947.0                  6875.0   \n",
       "7              6777.0                  7328.0                  6947.0   \n",
       "8              7503.0                  6777.0                  7328.0   \n",
       "9              6916.0                  7503.0                  6777.0   \n",
       "10             7045.0                  6916.0                  7503.0   \n",
       "11             6956.0                  7045.0                  6916.0   \n",
       "12             6976.0                  6956.0                  7045.0   \n",
       "13             7185.0                  6976.0                  6956.0   \n",
       "\n",
       "    thousands_barrels_lag3  thousands_barrels_lag4  trend  log_trend  \\\n",
       "4                   6433.0                  6621.0      4   1.609438   \n",
       "5                   6582.0                  6433.0      5   1.791759   \n",
       "6                   7224.0                  6582.0      6   1.945910   \n",
       "7                   6875.0                  7224.0      7   2.079442   \n",
       "8                   6947.0                  6875.0      8   2.197225   \n",
       "9                   7328.0                  6947.0      9   2.302585   \n",
       "10                  6777.0                  7328.0     10   2.397895   \n",
       "11                  7503.0                  6777.0     11   2.484907   \n",
       "12                  6916.0                  7503.0     12   2.564949   \n",
       "13                  7045.0                  6916.0     13   2.639057   \n",
       "\n",
       "    sq_trend  week_0  week_1  ...  week_45  week_46  week_47  week_48  \\\n",
       "4         16       0       0  ...        0        0        0        0   \n",
       "5         25       0       0  ...        0        0        0        0   \n",
       "6         36       0       0  ...        0        0        0        0   \n",
       "7         49       0       0  ...        0        0        0        0   \n",
       "8         64       0       0  ...        0        0        0        0   \n",
       "9         81       0       0  ...        0        0        0        0   \n",
       "10       100       0       0  ...        0        0        0        0   \n",
       "11       121       0       0  ...        0        0        0        0   \n",
       "12       144       0       0  ...        0        0        0        0   \n",
       "13       169       0       0  ...        0        0        0        0   \n",
       "\n",
       "    week_49  week_50  week_51  thousands_barrels_lag52  \\\n",
       "4         0        0        0                      NaN   \n",
       "5         0        0        0                      NaN   \n",
       "6         0        0        0                      NaN   \n",
       "7         0        0        0                      NaN   \n",
       "8         0        0        0                      NaN   \n",
       "9         0        0        0                      NaN   \n",
       "10        0        0        0                      NaN   \n",
       "11        0        0        0                      NaN   \n",
       "12        0        0        0                      NaN   \n",
       "13        0        0        0                      NaN   \n",
       "\n",
       "    thousands_barrels_lag104  thousands_barrels_naive_forecast  \n",
       "4                        NaN                               NaN  \n",
       "5                        NaN                               NaN  \n",
       "6                        NaN                               NaN  \n",
       "7                        NaN                               NaN  \n",
       "8                        NaN                               NaN  \n",
       "9                        NaN                               NaN  \n",
       "10                       NaN                               NaN  \n",
       "11                       NaN                               NaN  \n",
       "12                       NaN                               NaN  \n",
       "13                       NaN                               NaN  \n",
       "\n",
       "[10 rows x 63 columns]"
      ]
     },
     "execution_count": 33,
     "metadata": {},
     "output_type": "execute_result"
    }
   ],
   "source": [
    "gas.head(10)"
   ]
  },
  {
   "cell_type": "markdown",
   "id": "e5789d4a",
   "metadata": {},
   "source": [
    "이제, 우리는 다음과 같이 할 것입니다.\n",
    "- lagged information 이 없는 처음 네 행을 지웁니다.\n",
    "- explanatory features 에서 target 을 분리합니다.\n",
    "- 데이터를 교육, 검증 및 테스트 그룹으로 분할하여 모델을 조정한 다음 아직 보지 못한 데이터에 대한 정확성을 평가할 수 있습니다.이 데이터는 시계열 데이터이므로 첫 번째 60% 를 교육에 사용하고 두 번째 20% 는 검증에 사용하고 최종 테스트 평가에는 최종 20% 를 사용합니다."
   ]
  },
  {
   "cell_type": "code",
   "execution_count": 13,
   "id": "b9c27a63",
   "metadata": {},
   "outputs": [],
   "source": [
    "gas = gas.iloc[\n",
    "    4:,\n",
    "]\n",
    "split_train = int(len(gas) * 0.6)\n",
    "split_test = int(len(gas) * 0.8)\n",
    "\n",
    "train_y = gas[\"thousands_barrels\"][:split_train]\n",
    "train_X = (\n",
    "    gas.drop(\"thousands_barrels\", axis=1)\n",
    "    .iloc[\n",
    "        :split_train,\n",
    "    ]\n",
    "    .to_numpy()\n",
    ")\n",
    "validation_y = gas[\"thousands_barrels\"][split_train:split_test]\n",
    "validation_X = (\n",
    "    gas.drop(\"thousands_barrels\", axis=1)\n",
    "    .iloc[\n",
    "        split_train:split_test,\n",
    "    ]\n",
    "    .to_numpy()\n",
    ")\n",
    "test_y = gas[\"thousands_barrels\"][split_test:]\n",
    "test_X = (\n",
    "    gas.drop(\"thousands_barrels\", axis=1)\n",
    "    .iloc[\n",
    "        split_test:,\n",
    "    ]\n",
    "    .to_numpy()\n",
    ")"
   ]
  },
  {
   "cell_type": "code",
   "execution_count": 32,
   "id": "3f17e6b0",
   "metadata": {},
   "outputs": [
    {
     "data": {
      "text/plain": [
       "4      6875.0\n",
       "5      6947.0\n",
       "6      7328.0\n",
       "7      6777.0\n",
       "8      7503.0\n",
       "        ...  \n",
       "443    8644.0\n",
       "444    8519.0\n",
       "445    8415.0\n",
       "446    8810.0\n",
       "447    8778.0\n",
       "Name: thousands_barrels, Length: 444, dtype: float64"
      ]
     },
     "execution_count": 32,
     "metadata": {},
     "output_type": "execute_result"
    }
   ],
   "source": [
    "train_y"
   ]
  },
  {
   "cell_type": "markdown",
   "id": "822511b4",
   "metadata": {},
   "source": [
    "이제 데이터 세트를 Amazon SageMaker 알고리즘에서 사용하는 recordIO-wrapped protobuf 형식으로 변환합니다."
   ]
  },
  {
   "cell_type": "code",
   "execution_count": 16,
   "id": "9c5875cd",
   "metadata": {},
   "outputs": [
    {
     "data": {
      "text/plain": [
       "0"
      ]
     },
     "execution_count": 16,
     "metadata": {},
     "output_type": "execute_result"
    }
   ],
   "source": [
    "buf = io.BytesIO()\n",
    "smac.write_numpy_to_dense_tensor(\n",
    "    buf, np.array(train_X).astype(\"float32\"), np.array(train_y).astype(\"float32\")\n",
    ")\n",
    "buf.seek(0)"
   ]
  },
  {
   "cell_type": "code",
   "execution_count": 17,
   "id": "52c65c29",
   "metadata": {},
   "outputs": [
    {
     "name": "stdout",
     "output_type": "stream",
     "text": [
      "uploaded training data location: s3://yudong-data/sagemaker/linear-time-series-forecast/train/linear_train.data\n"
     ]
    }
   ],
   "source": [
    "key = \"linear_train.data\"\n",
    "boto3.resource(\"s3\").Bucket(bucket).Object(os.path.join(prefix, \"train\", key)).upload_fileobj(buf)\n",
    "s3_train_data = \"s3://{}/{}/train/{}\".format(bucket, prefix, key)\n",
    "print(\"uploaded training data location: {}\".format(s3_train_data))"
   ]
  },
  {
   "cell_type": "code",
   "execution_count": 18,
   "id": "40e5ec90",
   "metadata": {},
   "outputs": [
    {
     "data": {
      "text/plain": [
       "0"
      ]
     },
     "execution_count": 18,
     "metadata": {},
     "output_type": "execute_result"
    }
   ],
   "source": [
    "\n",
    "buf = io.BytesIO()\n",
    "smac.write_numpy_to_dense_tensor(\n",
    "    buf, np.array(validation_X).astype(\"float32\"), np.array(validation_y).astype(\"float32\")\n",
    ")\n",
    "buf.seek(0)"
   ]
  },
  {
   "cell_type": "code",
   "execution_count": 19,
   "id": "71a90b0c",
   "metadata": {},
   "outputs": [
    {
     "name": "stdout",
     "output_type": "stream",
     "text": [
      "uploaded validation data location: s3://yudong-data/sagemaker/linear-time-series-forecast/validation/linear_validation.data\n"
     ]
    }
   ],
   "source": [
    "key = \"linear_validation.data\"\n",
    "boto3.resource(\"s3\").Bucket(bucket).Object(os.path.join(prefix, \"validation\", key)).upload_fileobj(\n",
    "    buf\n",
    ")\n",
    "s3_validation_data = \"s3://{}/{}/validation/{}\".format(bucket, prefix, key)\n",
    "print(\"uploaded validation data location: {}\".format(s3_validation_data))"
   ]
  },
  {
   "cell_type": "markdown",
   "id": "cf833453",
   "metadata": {},
   "source": [
    "### Train"
   ]
  },
  {
   "cell_type": "markdown",
   "id": "2d0ea23e",
   "metadata": {},
   "source": [
    "이제 선형 모델을 지정할 수 있습니다. 먼저 linear learner 알고리즘에 대한 컨테이너를 지정해 보겠습니다. 이 노트북이 Amazon SageMaker의 모든 지역에서 실행되기를 원하기 때문에 편리한 기능을 사용하여 현재 지역의 컨테이너 이미지 이름을 찾습니다. 알고리즘 컨테이너에 대한 자세한 내용은 다음에서 확인하실 수 있습니다. [AWS documentation](https://docs.aws.amazon.com/sagemaker/latest/dg/sagemaker-algo-docker-registry-paths.html)."
   ]
  },
  {
   "cell_type": "code",
   "execution_count": 20,
   "id": "6b8ee6c5",
   "metadata": {},
   "outputs": [],
   "source": [
    "from sagemaker.amazon.amazon_estimator import image_uris\n",
    "\n",
    "container = image_uris.retrieve(framework=\"linear-learner\", region=boto3.Session().region_name)"
   ]
  },
  {
   "cell_type": "code",
   "execution_count": 21,
   "id": "72ca4dce",
   "metadata": {},
   "outputs": [
    {
     "data": {
      "text/plain": [
       "'835164637446.dkr.ecr.ap-northeast-2.amazonaws.com/linear-learner:1'"
      ]
     },
     "execution_count": 21,
     "metadata": {},
     "output_type": "execute_result"
    }
   ],
   "source": [
    "container"
   ]
  },
  {
   "cell_type": "markdown",
   "id": "c7afdcd3",
   "metadata": {},
   "source": [
    "Amazon SageMaker의 Linear Learner는 실제로 여러 모델에 병렬로 적합하며 각 모델마다 약간 다른 하이퍼파라미터가 있는 다음 가장 적합한 모델을 반환합니다. 이 기능은 자동으로 활성화됩니다. 다음과 같은 매개 변수를 사용하여 영향을 줄 수 있습니다.\n",
    "\n",
    "-num_models: 실행 모델의 총 수. 지정된 매개 변수는 항상 이러한 모델 중 하나이지만 알고리즘은 가까운 매개 변수 값이 있는 모델을 선택하여 보다 최적의 솔루션을 찾습니다.\n",
    "-loss: 모델 견적에서 실수를 제어하는 파라미터. 데이터를 정리하는 데 많은 시간을 소비하지 않았기 때문에 absolute_loss 를 사용합니다. absolute_loss 는 아웃라이어에 덜 반응합니다.\n"
   ]
  },
  {
   "cell_type": "code",
   "execution_count": null,
   "id": "d56f71f6",
   "metadata": {},
   "outputs": [],
   "source": [
    "sess = sagemaker.Session()\n",
    "\n",
    "linear = sagemaker.estimator.Estimator(\n",
    "    container,\n",
    "    role,\n",
    "    instance_count=1,\n",
    "    instance_type=\"ml.c4.xlarge\",\n",
    "    output_path=\"s3://{}/{}/output\".format(bucket, prefix),\n",
    "    sagemaker_session=sess,\n",
    ")\n",
    "linear.set_hyperparameters(\n",
    "    feature_dim=59,\n",
    "    mini_batch_size=100,\n",
    "    predictor_type=\"regressor\",\n",
    "    epochs=10,\n",
    "    num_models=32,\n",
    "    loss=\"absolute_loss\",\n",
    ")\n",
    "\n",
    "linear.fit({\"train\": s3_train_data, \"validation\": s3_validation_data})"
   ]
  },
  {
   "cell_type": "markdown",
   "id": "22e71945",
   "metadata": {},
   "source": [
    "---\n",
    "## Host\n",
    "학습이 끝난 모델은 배포를 합니다."
   ]
  },
  {
   "cell_type": "code",
   "execution_count": 23,
   "id": "03f772b1",
   "metadata": {},
   "outputs": [
    {
     "name": "stdout",
     "output_type": "stream",
     "text": [
      "---------------!"
     ]
    }
   ],
   "source": [
    "linear_predictor = linear.deploy(initial_instance_count=1, instance_type=\"ml.m4.xlarge\")"
   ]
  },
  {
   "cell_type": "markdown",
   "id": "23cc49df",
   "metadata": {},
   "source": [
    "### Forecast\n",
    "\n",
    "시계열의 모델을 평가하는 지표는 대표적으로 다음과 같습니다:\n",
    "\n",
    "- Root Mean Square Error (RMSE)\n",
    "- Mean Absolute Percent Error (MAPE)\n",
    "- Geometric Mean of the Relative Absolute Error (GMRAE)\n",
    "- Quantile forecast errors\n",
    "- Errors that account for asymmetric loss in over or under-prediction\n",
    "\n",
    "이 예에서는 간단한 작업을 유지하고 Median Absolute Percent Error (MdAPE) 를 사용하지만 Naive Benchmark forecast (지난해 그 주 수요* 지난해 해당 주/2년 전 해당 주) 과 비교하겠습니다.\n"
   ]
  },
  {
   "cell_type": "code",
   "execution_count": 24,
   "id": "aebf9d20",
   "metadata": {},
   "outputs": [],
   "source": [
    "gas[\"thousands_barrels_lag52\"] = gas[\"thousands_barrels\"].shift(52)\n",
    "gas[\"thousands_barrels_lag104\"] = gas[\"thousands_barrels\"].shift(104)\n",
    "gas[\"thousands_barrels_naive_forecast\"] = (\n",
    "    gas[\"thousands_barrels_lag52\"] ** 2 / gas[\"thousands_barrels_lag104\"]\n",
    ")\n",
    "naive = gas[split_test:][\"thousands_barrels_naive_forecast\"].to_numpy()"
   ]
  },
  {
   "cell_type": "code",
   "execution_count": 25,
   "id": "9a61424d",
   "metadata": {},
   "outputs": [
    {
     "name": "stdout",
     "output_type": "stream",
     "text": [
      "Naive MdAPE = 0.03687277085962615\n"
     ]
    },
    {
     "data": {
      "image/png": "[encoded data removed]",
      "text/plain": [
       "<Figure size 432x288 with 1 Axes>"
      ]
     },
     "metadata": {
      "needs_background": "light"
     },
     "output_type": "display_data"
    }
   ],
   "source": [
    "print(\"Naive MdAPE =\", np.median(np.abs(test_y - naive) / test_y))\n",
    "plt.plot(np.array(test_y), label=\"actual\")\n",
    "plt.plot(naive, label=\"naive\")\n",
    "plt.legend()\n",
    "plt.show()"
   ]
  },
  {
   "cell_type": "markdown",
   "id": "53c02ebb",
   "metadata": {},
   "source": [
    "먼저 numpy 배열을 추론 컨테이너에 전달하는 HTTP POST 요청으로 처리 할 수있는 형식으로 변환하는 함수가 필요합니다. 이 예제는 간단한 CSV 문자열입니다. 결과는 JSON으로 다시 변환됩니다. 이러한 포멧의 경우 AWS SageMaker Python SDK의 내장 CSVSerializer 및 JSONDeserializer 함수를 사용할 수 있습니다."
   ]
  },
  {
   "cell_type": "code",
   "execution_count": 26,
   "id": "8f4c1e16",
   "metadata": {},
   "outputs": [],
   "source": [
    "linear_predictor.serializer = CSVSerializer()\n",
    "linear_predictor.deserializer = JSONDeserializer()"
   ]
  },
  {
   "cell_type": "code",
   "execution_count": 27,
   "id": "d3511b2e",
   "metadata": {},
   "outputs": [],
   "source": [
    "result = linear_predictor.predict(test_X)\n",
    "one_step = np.array([r[\"score\"] for r in result[\"predictions\"]])"
   ]
  },
  {
   "cell_type": "code",
   "execution_count": 28,
   "id": "a0110083",
   "metadata": {},
   "outputs": [
    {
     "name": "stdout",
     "output_type": "stream",
     "text": [
      "One-step-ahead MdAPE =  0.020360223119258346\n"
     ]
    },
    {
     "data": {
      "image/png": "[encoded data removed]",
      "text/plain": [
       "<Figure size 432x288 with 1 Axes>"
      ]
     },
     "metadata": {
      "needs_background": "light"
     },
     "output_type": "display_data"
    }
   ],
   "source": [
    "print(\"One-step-ahead MdAPE = \", np.median(np.abs(test_y - one_step) / test_y))\n",
    "plt.plot(np.array(test_y), label=\"actual\")\n",
    "plt.plot(one_step, label=\"forecast\")\n",
    "plt.legend()\n",
    "plt.show()"
   ]
  },
  {
   "cell_type": "code",
   "execution_count": 29,
   "id": "21e385a8",
   "metadata": {},
   "outputs": [],
   "source": [
    "multi_step = []\n",
    "lags = test_X[0, 0:4]\n",
    "for row in test_X:\n",
    "    row[0:4] = lags\n",
    "    result = linear_predictor.predict(row)\n",
    "    prediction = result[\"predictions\"][0][\"score\"]\n",
    "    multi_step.append(prediction)\n",
    "    lags[1:4] = lags[0:3]\n",
    "    lags[0] = prediction\n",
    "\n",
    "multi_step = np.array(multi_step)"
   ]
  },
  {
   "cell_type": "code",
   "execution_count": 30,
   "id": "2e7c9d48",
   "metadata": {},
   "outputs": [
    {
     "name": "stdout",
     "output_type": "stream",
     "text": [
      "Multi-step-ahead MdAPE = 0.021905220272206302\n"
     ]
    },
    {
     "data": {
      "image/png": "[encoded data removed]",
      "text/plain": [
       "<Figure size 432x288 with 1 Axes>"
      ]
     },
     "metadata": {
      "needs_background": "light"
     },
     "output_type": "display_data"
    }
   ],
   "source": [
    "print(\"Multi-step-ahead MdAPE =\", np.median(np.abs(test_y - multi_step) / test_y))\n",
    "plt.plot(np.array(test_y), label=\"actual\")\n",
    "plt.plot(multi_step, label=\"forecast\")\n",
    "plt.legend()\n",
    "plt.show()"
   ]
  },
  {
   "cell_type": "code",
   "execution_count": null,
   "id": "17a958ac",
   "metadata": {},
   "outputs": [],
   "source": []
  }
 ],
 "metadata": {
  "kernelspec": {
   "display_name": "conda_python3",
   "language": "python",
   "name": "conda_python3"
  },
  "language_info": {
   "codemirror_mode": {
    "name": "ipython",
    "version": 3
   },
   "file_extension": ".py",
   "mimetype": "text/x-python",
   "name": "python",
   "nbconvert_exporter": "python",
   "pygments_lexer": "ipython3",
   "version": "3.6.13"
  }
 },
 "nbformat": 4,
 "nbformat_minor": 5
}
